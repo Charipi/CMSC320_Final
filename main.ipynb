{
 "cells": [
  {
   "cell_type": "code",
   "execution_count": 102,
   "metadata": {},
   "outputs": [],
   "source": [
    "# Imports\n",
    "import pandas as pd"
   ]
  },
  {
   "cell_type": "code",
   "execution_count": 103,
   "metadata": {},
   "outputs": [],
   "source": [
    "# Loading Data\n",
    "hitting = pd.read_csv('baseball_savant_hitting.csv').drop(columns=['fast_swing_rate', 'avg_swing_speed', 'blasts_contact', 'blasts_swing', 'squared_up_contact', 'squared_up_swing',]).dropna()\n",
    "pitching = pd.read_csv('baseball_savant_pitching.csv').drop(columns=['p_opp_batting_avg', 'p_opp_on_base_avg'])"
   ]
  },
  {
   "cell_type": "code",
   "execution_count": 104,
   "metadata": {},
   "outputs": [],
   "source": [
    "fourseam_columns = ['n_ff_formatted', 'ff_avg_speed', 'ff_avg_spin', 'ff_avg_break_x', 'ff_avg_break_z']\n",
    "slider_columns = ['n_sl_formatted', 'sl_avg_speed', 'sl_avg_spin', 'sl_avg_break_x','sl_avg_break_z']\n",
    "changeup_columns = ['n_ch_formatted', 'ch_avg_speed', 'ch_avg_spin', 'ch_avg_break_x', 'ch_avg_break_z']\n",
    "curveball_columns = ['n_cu_formatted', 'cu_avg_speed', 'cu_avg_spin', 'cu_avg_break_x', 'cu_avg_break_z']\n",
    "sinker_columns = ['n_si_formatted', 'si_avg_speed', 'si_avg_spin', 'si_avg_break_x', 'si_avg_break_z']\n",
    "cutter_columns = ['n_fc_formatted', 'fc_avg_speed', 'fc_avg_spin', 'fc_avg_break_x', 'fc_avg_break_z']\n",
    "\n",
    "# Splitting pitching data by pitch type\n",
    "fourseams = pitching.drop(columns = slider_columns + changeup_columns + curveball_columns + sinker_columns + cutter_columns).dropna(subset=fourseam_columns)\n",
    "sliders = pitching.drop(columns = fourseam_columns + changeup_columns + curveball_columns + sinker_columns + cutter_columns).dropna(subset=slider_columns)\n",
    "changeups = pitching.drop(columns = fourseam_columns + slider_columns + curveball_columns + sinker_columns + cutter_columns).dropna(subset=changeup_columns)\n",
    "curveballs = pitching.drop(columns = fourseam_columns + slider_columns + changeup_columns + sinker_columns + cutter_columns).dropna(subset=curveball_columns)\n",
    "sinkers = pitching.drop(columns = fourseam_columns + slider_columns + changeup_columns + curveball_columns + cutter_columns).dropna(subset=sinker_columns)\n",
    "cutters = pitching.drop(columns = fourseam_columns + slider_columns + changeup_columns + curveball_columns + sinker_columns).dropna(subset=cutter_columns)\n",
    "\n",
    "# n_type_formatted * pa = relative weight for how many pitches of this type the pitcher threw (might be useful for weighted averages or weighted correlations)\n",
    "fourseams['ff_weight'] = fourseams['n_ff_formatted'] * fourseams['pa'] / 100\n",
    "sliders['sl_weight'] = sliders['n_sl_formatted'] * sliders['pa'] / 100\n",
    "changeups['ch_weight'] = changeups['n_ch_formatted'] * changeups['pa'] / 100\n",
    "curveballs['cu_weight'] = curveballs['n_cu_formatted'] * curveballs['pa'] / 100\n",
    "sinkers['si_weight'] = sinkers['n_si_formatted'] * sinkers['pa'] / 100\n",
    "cutters['fc_weight'] = cutters['n_fc_formatted'] * cutters['pa'] / 100\n"
   ]
  }
 ],
 "metadata": {
  "kernelspec": {
   "display_name": ".venv",
   "language": "python",
   "name": "python3"
  },
  "language_info": {
   "codemirror_mode": {
    "name": "ipython",
    "version": 3
   },
   "file_extension": ".py",
   "mimetype": "text/x-python",
   "name": "python",
   "nbconvert_exporter": "python",
   "pygments_lexer": "ipython3",
   "version": "3.8.10"
  }
 },
 "nbformat": 4,
 "nbformat_minor": 2
}
